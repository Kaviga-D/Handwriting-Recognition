{
  "cells": [
    {
      "cell_type": "markdown",
      "metadata": {
        "id": "view-in-github",
        "colab_type": "text"
      },
      "source": [
        "<a href=\"https://colab.research.google.com/github/Kaviga-D/Handwriting-Recognition/blob/main/Copy_of_Offline_Handwritten_Text_OCR.ipynb\" target=\"_parent\"><img src=\"https://colab.research.google.com/assets/colab-badge.svg\" alt=\"Open In Colab\"/></a>"
      ]
    },
    {
      "cell_type": "code",
      "execution_count": null,
      "metadata": {
        "colab": {
          "base_uri": "https://localhost:8080/"
        },
        "id": "0oOMbU-f_BZq",
        "outputId": "c323e709-e22f-4a6c-dcd6-ec6c7e4f17bd"
      },
      "outputs": [
        {
          "name": "stdout",
          "output_type": "stream",
          "text": [
            "Downloading handwritten-characters, 1740501298 bytes compressed\n",
            "[==================================================] 1740501298 bytes downloaded\n",
            "Downloaded and uncompressed: handwritten-characters\n",
            "Downloading handwriting-recognition, 1353071625 bytes compressed\n",
            "[==================================================] 1353071625 bytes downloaded\n",
            "Downloaded and uncompressed: handwriting-recognition\n",
            "Data source import complete.\n"
          ]
        }
      ],
      "source": [
        "\n",
        "# IMPORTANT: RUN THIS CELL IN ORDER TO IMPORT YOUR KAGGLE DATA SOURCES\n",
        "# TO THE CORRECT LOCATION (/kaggle/input) IN YOUR NOTEBOOK,\n",
        "# THEN FEEL FREE TO DELETE THIS CELL.\n",
        "# NOTE: THIS NOTEBOOK ENVIRONMENT DIFFERS FROM KAGGLE'S PYTHON\n",
        "# ENVIRONMENT SO THERE MAY BE MISSING LIBRARIES USED BY YOUR\n",
        "# NOTEBOOK.\n",
        "\n",
        "import os\n",
        "import sys\n",
        "from tempfile import NamedTemporaryFile\n",
        "from urllib.request import urlopen\n",
        "from urllib.parse import unquote, urlparse\n",
        "from urllib.error import HTTPError\n",
        "from zipfile import ZipFile\n",
        "import tarfile\n",
        "import shutil\n",
        "\n",
        "CHUNK_SIZE = 40960\n",
        "DATA_SOURCE_MAPPING = 'handwritten-characters:https%3A%2F%2Fstorage.googleapis.com%2Fkaggle-data-sets%2F53376%2F101598%2Fbundle%2Farchive.zip%3FX-Goog-Algorithm%3DGOOG4-RSA-SHA256%26X-Goog-Credential%3Dgcp-kaggle-com%2540kaggle-161607.iam.gserviceaccount.com%252F20240428%252Fauto%252Fstorage%252Fgoog4_request%26X-Goog-Date%3D20240428T091425Z%26X-Goog-Expires%3D259200%26X-Goog-SignedHeaders%3Dhost%26X-Goog-Signature%3D99b19f799b9462f9e6b251fa137c1ab3fce2867a84581cdb8b7987569f42ba99a574e7eb3cc0bf4799f58cf6bad1bfbc8cd4d2a5f4c8811bb60bbc587c135a5f868682803d45c1ab0a43be74cb8d2eb8a18dbc5e82605eb1a54351fcb6521a2b5476fa31d06d4b0043bbf112d41f211e67e4ec9eca568833fb5246f9c7643a1a7f59eba77540c9b2dd3142a31193a093d190dfba16142b737be2df9f65b408e288af5a50ed3dedda7ee8eef02eee338e86756d82233ba3cc49465eac7860210946161836d4934a8e42f10a3d11f9ea549f98a7f6285c17c26254ddec1bf9f5990e781315c388dd073987854505e619a69b98c04d1807b8a99b0bf2b42c3353ec,handwriting-recognition:https%3A%2F%2Fstorage.googleapis.com%2Fkaggle-data-sets%2F818027%2F1400106%2Fbundle%2Farchive.zip%3FX-Goog-Algorithm%3DGOOG4-RSA-SHA256%26X-Goog-Credential%3Dgcp-kaggle-com%2540kaggle-161607.iam.gserviceaccount.com%252F20240428%252Fauto%252Fstorage%252Fgoog4_request%26X-Goog-Date%3D20240428T091425Z%26X-Goog-Expires%3D259200%26X-Goog-SignedHeaders%3Dhost%26X-Goog-Signature%3D567bbd168c91f4e6e0e27ec01839da243d1d5a6009b4b904c629c9b3989f8428c3b3f958f6b1513c8b2bfb99000f1a65abc08bccc9fdd52b38bf7df71e189c05488ee2b77421801a992d0df41829340f19f850dd9aa49376250be177361387c6521e227bd4beb0767717d78d72a958bca8e83ef62655385e8e12bc40a3736119c584028ac6b8628f2eb32845894ed28f44bf224824ed0223d82f9f3e6e4aa5920cefa7eec46934c0b7df1088fe058a36f26c1e7016a39df8d626f3917b30e9b680f978f620259c8c790aaaa7bfbdd5a7c58779477bd7222ab8331e5d86cfde75ddc1189a45cecb300cccd7f341708d1b19f59ce8baeb4c11157dd2e5159f75a3'\n",
        "\n",
        "KAGGLE_INPUT_PATH='/kaggle/input'\n",
        "KAGGLE_WORKING_PATH='/kaggle/working'\n",
        "KAGGLE_SYMLINK='kaggle'\n",
        "\n",
        "!umount /kaggle/input/ 2> /dev/null\n",
        "shutil.rmtree('/kaggle/input', ignore_errors=True)\n",
        "os.makedirs(KAGGLE_INPUT_PATH, 0o777, exist_ok=True)\n",
        "os.makedirs(KAGGLE_WORKING_PATH, 0o777, exist_ok=True)\n",
        "\n",
        "try:\n",
        "  os.symlink(KAGGLE_INPUT_PATH, os.path.join(\"..\", 'input'), target_is_directory=True)\n",
        "except FileExistsError:\n",
        "  pass\n",
        "try:\n",
        "  os.symlink(KAGGLE_WORKING_PATH, os.path.join(\"..\", 'working'), target_is_directory=True)\n",
        "except FileExistsError:\n",
        "  pass\n",
        "\n",
        "for data_source_mapping in DATA_SOURCE_MAPPING.split(','):\n",
        "    directory, download_url_encoded = data_source_mapping.split(':')\n",
        "    download_url = unquote(download_url_encoded)\n",
        "    filename = urlparse(download_url).path\n",
        "    destination_path = os.path.join(KAGGLE_INPUT_PATH, directory)\n",
        "    try:\n",
        "        with urlopen(download_url) as fileres, NamedTemporaryFile() as tfile:\n",
        "            total_length = fileres.headers['content-length']\n",
        "            print(f'Downloading {directory}, {total_length} bytes compressed')\n",
        "            dl = 0\n",
        "            data = fileres.read(CHUNK_SIZE)\n",
        "            while len(data) > 0:\n",
        "                dl += len(data)\n",
        "                tfile.write(data)\n",
        "                done = int(50 * dl / int(total_length))\n",
        "                sys.stdout.write(f\"\\r[{'=' * done}{' ' * (50-done)}] {dl} bytes downloaded\")\n",
        "                sys.stdout.flush()\n",
        "                data = fileres.read(CHUNK_SIZE)\n",
        "            if filename.endswith('.zip'):\n",
        "              with ZipFile(tfile) as zfile:\n",
        "                zfile.extractall(destination_path)\n",
        "            else:\n",
        "              with tarfile.open(tfile.name) as tarfile:\n",
        "                tarfile.extractall(destination_path)\n",
        "            print(f'\\nDownloaded and uncompressed: {directory}')\n",
        "    except HTTPError as e:\n",
        "        print(f'Failed to load (likely expired) {download_url} to path {destination_path}')\n",
        "        continue\n",
        "    except OSError as e:\n",
        "        print(f'Failed to load {download_url} to path {destination_path}')\n",
        "        continue\n",
        "\n",
        "print('Data source import complete.')\n"
      ]
    },
    {
      "cell_type": "markdown",
      "metadata": {
        "id": "nY3mguRT_BZt"
      },
      "source": [
        "# *Offline Handwritten Text Recognition*\n",
        "\n",
        "### The purpose of this notebook is to give a brief idea and a basic approach for offline handwritten text recognition by using segmentation and classification."
      ]
    },
    {
      "cell_type": "markdown",
      "metadata": {
        "id": "1Mwqe8uc_BZw"
      },
      "source": [
        "## What is Offline Handwritten Text Recognition?\n",
        "Offline handwriting recognition involves the automatic conversion of text in an image into letter codes that are usable within computer and text-processing applications. In simple terms, it is the text extraction from your handwritten notebooks/pages. Why called offline? The point being that there is an online text recognition system, which is referred for text that is digitally generated by using tools like stylus, apple pencil, etc."
      ]
    },
    {
      "cell_type": "markdown",
      "metadata": {
        "id": "Qjtukicc_BZw"
      },
      "source": [
        "## Approach\n",
        "\n",
        "* **Step1** :  Build a digit(0-9) + A-Z characters classifier using a CNN architecture.\n",
        "* **Step2** :  Apply character segmentation for the handwritten word image.\n",
        "* **Step3** :  Classify each segmented letter and then get the final word in the image."
      ]
    },
    {
      "cell_type": "code",
      "execution_count": null,
      "metadata": {
        "colab": {
          "base_uri": "https://localhost:8080/"
        },
        "id": "N6-HmqJT_BZx",
        "outputId": "f55df0e7-7748-4973-b908-c871152bed95"
      },
      "outputs": [
        {
          "name": "stdout",
          "output_type": "stream",
          "text": [
            "Requirement already satisfied: imutils in /usr/local/lib/python3.10/dist-packages (0.5.4)\n"
          ]
        }
      ],
      "source": [
        "!pip install imutils"
      ]
    },
    {
      "cell_type": "code",
      "execution_count": null,
      "metadata": {
        "id": "0j8sIeKSIvfV"
      },
      "outputs": [],
      "source": [
        "import numpy as np\n",
        "import pandas as pd\n",
        "from keras.preprocessing.image import ImageDataGenerator\n",
        "import os\n",
        "import random\n",
        "import cv2\n",
        "import imutils\n",
        "import random\n",
        "import matplotlib.pyplot as plt\n",
        "import seaborn as sns\n",
        "from sklearn.preprocessing import LabelBinarizer\n",
        "from keras.utils import to_categorical\n",
        "from keras.models import Sequential\n",
        "from keras import optimizers\n",
        "from sklearn.preprocessing import LabelBinarizer\n",
        "from keras import backend as K\n",
        "from keras.layers import Dense, Activation, Flatten, Dense,MaxPooling2D, Dropout\n",
        "from keras.layers import Conv2D, MaxPooling2D, BatchNormalization"
      ]
    },
    {
      "cell_type": "code",
      "execution_count": null,
      "metadata": {
        "id": "d5sC9vVB_BZx"
      },
      "outputs": [],
      "source": [
        "dir = \"../input/handwritten-characters/Train/\"\n",
        "train_data = []\n",
        "img_size = 32\n",
        "non_chars = [\"#\",\"$\",\"&\",\"@\"]\n",
        "for i in os.listdir(dir):\n",
        "    if i in non_chars:\n",
        "        continue\n",
        "    count = 0\n",
        "    sub_directory = os.path.join(dir,i)\n",
        "    for j in os.listdir(sub_directory):\n",
        "        count+=1\n",
        "        if count > 4000:\n",
        "            break\n",
        "        img = cv2.imread(os.path.join(sub_directory,j),0)\n",
        "        img = cv2.resize(img,(img_size,img_size))\n",
        "        train_data.append([img,i])"
      ]
    },
    {
      "cell_type": "code",
      "execution_count": null,
      "metadata": {
        "colab": {
          "base_uri": "https://localhost:8080/"
        },
        "id": "DRP3ZqQT_BZy",
        "outputId": "fc03713c-98d9-4f71-e5f6-6dd85f47a34e"
      },
      "outputs": [
        {
          "data": {
            "text/plain": [
              "140000"
            ]
          },
          "execution_count": 13,
          "metadata": {},
          "output_type": "execute_result"
        }
      ],
      "source": [
        "len(train_data)"
      ]
    },
    {
      "cell_type": "code",
      "execution_count": null,
      "metadata": {
        "id": "6tRvnD2N_BZy"
      },
      "outputs": [],
      "source": [
        "val_dir = \"../input/handwritten-characters/Validation/\"\n",
        "val_data = []\n",
        "img_size = 32\n",
        "for i in os.listdir(val_dir):\n",
        "    if i in non_chars:\n",
        "        continue\n",
        "    count = 0\n",
        "    sub_directory = os.path.join(val_dir,i)\n",
        "    for j in os.listdir(sub_directory):\n",
        "        count+=1\n",
        "        if count > 1000:\n",
        "            break\n",
        "        img = cv2.imread(os.path.join(sub_directory,j),0)\n",
        "        img = cv2.resize(img,(img_size,img_size))\n",
        "        val_data.append([img,i])"
      ]
    },
    {
      "cell_type": "code",
      "execution_count": null,
      "metadata": {
        "colab": {
          "base_uri": "https://localhost:8080/"
        },
        "id": "T4KFCNrJ_BZz",
        "outputId": "7ccc05f7-68b8-422a-c2ed-f1fe095d18f9"
      },
      "outputs": [
        {
          "data": {
            "text/plain": [
              "15209"
            ]
          },
          "execution_count": 15,
          "metadata": {},
          "output_type": "execute_result"
        }
      ],
      "source": [
        "len(val_data)"
      ]
    },
    {
      "cell_type": "code",
      "execution_count": null,
      "metadata": {
        "id": "FwlSDPdG_BZz"
      },
      "outputs": [],
      "source": [
        "random.shuffle(train_data)\n",
        "random.shuffle(val_data)"
      ]
    },
    {
      "cell_type": "code",
      "execution_count": null,
      "metadata": {
        "id": "W7jZtnO1_BZz"
      },
      "outputs": [],
      "source": [
        "train_X = []\n",
        "train_Y = []\n",
        "for features,label in train_data:\n",
        "    train_X.append(features)\n",
        "    train_Y.append(label)"
      ]
    },
    {
      "cell_type": "code",
      "execution_count": null,
      "metadata": {
        "id": "VXl7XWoO_BZz"
      },
      "outputs": [],
      "source": [
        "val_X = []\n",
        "val_Y = []\n",
        "for features,label in val_data:\n",
        "    val_X.append(features)\n",
        "    val_Y.append(label)"
      ]
    },
    {
      "cell_type": "code",
      "execution_count": null,
      "metadata": {
        "id": "uALte03N_BZ0"
      },
      "outputs": [],
      "source": [
        "LB = LabelBinarizer()\n",
        "train_Y = LB.fit_transform(train_Y)\n",
        "val_Y = LB.fit_transform(val_Y)"
      ]
    },
    {
      "cell_type": "code",
      "execution_count": null,
      "metadata": {
        "id": "PSVzuknP_BZ0"
      },
      "outputs": [],
      "source": [
        "train_X = np.array(train_X)/255.0\n",
        "train_X = train_X.reshape(-1,32,32,1)\n",
        "train_Y = np.array(train_Y)"
      ]
    },
    {
      "cell_type": "code",
      "execution_count": null,
      "metadata": {
        "id": "GrC39-AG_BZ0"
      },
      "outputs": [],
      "source": [
        "val_X = np.array(val_X)/255.0\n",
        "val_X = val_X.reshape(-1,32,32,1)\n",
        "val_Y = np.array(val_Y)"
      ]
    },
    {
      "cell_type": "code",
      "execution_count": null,
      "metadata": {
        "colab": {
          "base_uri": "https://localhost:8080/"
        },
        "id": "UOF5PBtU_BZ0",
        "outputId": "e1d758a3-1783-47d3-9c4a-58ea3814f48e"
      },
      "outputs": [
        {
          "name": "stdout",
          "output_type": "stream",
          "text": [
            "(140000, 32, 32, 1) (15209, 32, 32, 1)\n"
          ]
        }
      ],
      "source": [
        "print(train_X.shape,val_X.shape)"
      ]
    },
    {
      "cell_type": "code",
      "execution_count": null,
      "metadata": {
        "colab": {
          "base_uri": "https://localhost:8080/"
        },
        "id": "WLKwyVNW_BZ1",
        "outputId": "c8d3f26c-4b25-4da1-933a-181b685300d3"
      },
      "outputs": [
        {
          "name": "stdout",
          "output_type": "stream",
          "text": [
            "(140000, 35) (15209, 35)\n"
          ]
        }
      ],
      "source": [
        "print(train_Y.shape,val_Y.shape)"
      ]
    },
    {
      "cell_type": "code",
      "execution_count": null,
      "metadata": {
        "id": "rB9_xFxv_BZ1"
      },
      "outputs": [],
      "source": [
        "model = Sequential()\n",
        "\n",
        "model.add(Conv2D(32, (3, 3), padding = \"same\", activation='relu', input_shape=(32,32,1)))\n",
        "model.add(MaxPooling2D(pool_size=(2,2)))\n",
        "model.add(Conv2D(64, (3, 3), activation='relu'))\n",
        "model.add(MaxPooling2D(pool_size=(2,2)))\n",
        "model.add(Conv2D(128, (3, 3), activation='relu'))\n",
        "model.add(MaxPooling2D(pool_size=(2,2)))\n",
        "model.add(Dropout(0.25))\n",
        "\n",
        "model.add(Flatten())\n",
        "model.add(Dense(128, activation='relu'))\n",
        "model.add(Dropout(0.2))\n",
        "model.add(Dense(35, activation='softmax'))"
      ]
    },
    {
      "cell_type": "code",
      "execution_count": null,
      "metadata": {
        "colab": {
          "base_uri": "https://localhost:8080/"
        },
        "id": "4Hc0y0nf_BZ2",
        "outputId": "3c448ebb-e643-4222-a658-af8104e8e156"
      },
      "outputs": [
        {
          "name": "stdout",
          "output_type": "stream",
          "text": [
            "Model: \"sequential\"\n",
            "_________________________________________________________________\n",
            " Layer (type)                Output Shape              Param #   \n",
            "=================================================================\n",
            " conv2d (Conv2D)             (None, 32, 32, 32)        320       \n",
            "                                                                 \n",
            " max_pooling2d (MaxPooling2  (None, 16, 16, 32)        0         \n",
            " D)                                                              \n",
            "                                                                 \n",
            " conv2d_1 (Conv2D)           (None, 14, 14, 64)        18496     \n",
            "                                                                 \n",
            " max_pooling2d_1 (MaxPoolin  (None, 7, 7, 64)          0         \n",
            " g2D)                                                            \n",
            "                                                                 \n",
            " conv2d_2 (Conv2D)           (None, 5, 5, 128)         73856     \n",
            "                                                                 \n",
            " max_pooling2d_2 (MaxPoolin  (None, 2, 2, 128)         0         \n",
            " g2D)                                                            \n",
            "                                                                 \n",
            " dropout (Dropout)           (None, 2, 2, 128)         0         \n",
            "                                                                 \n",
            " flatten (Flatten)           (None, 512)               0         \n",
            "                                                                 \n",
            " dense (Dense)               (None, 128)               65664     \n",
            "                                                                 \n",
            " dropout_1 (Dropout)         (None, 128)               0         \n",
            "                                                                 \n",
            " dense_1 (Dense)             (None, 35)                4515      \n",
            "                                                                 \n",
            "=================================================================\n",
            "Total params: 162851 (636.14 KB)\n",
            "Trainable params: 162851 (636.14 KB)\n",
            "Non-trainable params: 0 (0.00 Byte)\n",
            "_________________________________________________________________\n"
          ]
        }
      ],
      "source": [
        "model.summary()"
      ]
    },
    {
      "cell_type": "code",
      "execution_count": null,
      "metadata": {
        "id": "_1UHbZxt_BZ2"
      },
      "outputs": [],
      "source": [
        "model.compile(loss='categorical_crossentropy', optimizer=\"adam\",metrics=['accuracy'])"
      ]
    },
    {
      "cell_type": "code",
      "execution_count": 27,
      "metadata": {
        "colab": {
          "base_uri": "https://localhost:8080/"
        },
        "id": "6oapjhl-_BZ2",
        "outputId": "eba1e08d-0d68-4f3f-bcad-e8e3a4588439"
      },
      "outputs": [
        {
          "output_type": "stream",
          "name": "stdout",
          "text": [
            "Epoch 1/50\n",
            "4375/4375 [==============================] - 244s 55ms/step - loss: 0.6372 - accuracy: 0.7962 - val_loss: 0.3314 - val_accuracy: 0.8976\n",
            "Epoch 2/50\n",
            "4375/4375 [==============================] - 223s 51ms/step - loss: 0.3507 - accuracy: 0.8811 - val_loss: 0.2773 - val_accuracy: 0.9111\n",
            "Epoch 3/50\n",
            "4375/4375 [==============================] - 223s 51ms/step - loss: 0.3051 - accuracy: 0.8963 - val_loss: 0.2734 - val_accuracy: 0.9076\n",
            "Epoch 4/50\n",
            "4375/4375 [==============================] - 219s 50ms/step - loss: 0.2779 - accuracy: 0.9033 - val_loss: 0.2656 - val_accuracy: 0.9047\n",
            "Epoch 5/50\n",
            "4375/4375 [==============================] - 216s 49ms/step - loss: 0.2606 - accuracy: 0.9093 - val_loss: 0.2671 - val_accuracy: 0.9028\n",
            "Epoch 6/50\n",
            "4375/4375 [==============================] - 219s 50ms/step - loss: 0.2475 - accuracy: 0.9140 - val_loss: 0.2626 - val_accuracy: 0.9003\n",
            "Epoch 7/50\n",
            "4375/4375 [==============================] - 214s 49ms/step - loss: 0.2376 - accuracy: 0.9165 - val_loss: 0.2418 - val_accuracy: 0.9101\n",
            "Epoch 8/50\n",
            "4375/4375 [==============================] - 213s 49ms/step - loss: 0.2283 - accuracy: 0.9193 - val_loss: 0.2366 - val_accuracy: 0.9161\n",
            "Epoch 9/50\n",
            "4375/4375 [==============================] - 216s 49ms/step - loss: 0.2212 - accuracy: 0.9211 - val_loss: 0.2413 - val_accuracy: 0.9163\n",
            "Epoch 10/50\n",
            "4375/4375 [==============================] - 212s 48ms/step - loss: 0.2158 - accuracy: 0.9224 - val_loss: 0.2425 - val_accuracy: 0.9171\n",
            "Epoch 11/50\n",
            "4375/4375 [==============================] - 216s 49ms/step - loss: 0.2089 - accuracy: 0.9240 - val_loss: 0.2625 - val_accuracy: 0.9003\n",
            "Epoch 12/50\n",
            "4375/4375 [==============================] - 216s 49ms/step - loss: 0.2061 - accuracy: 0.9251 - val_loss: 0.2483 - val_accuracy: 0.9183\n",
            "Epoch 13/50\n",
            "4375/4375 [==============================] - 219s 50ms/step - loss: 0.2008 - accuracy: 0.9271 - val_loss: 0.2668 - val_accuracy: 0.9035\n",
            "Epoch 14/50\n",
            "4375/4375 [==============================] - 209s 48ms/step - loss: 0.1962 - accuracy: 0.9285 - val_loss: 0.2380 - val_accuracy: 0.9207\n",
            "Epoch 15/50\n",
            "4375/4375 [==============================] - 212s 49ms/step - loss: 0.1935 - accuracy: 0.9286 - val_loss: 0.2289 - val_accuracy: 0.9214\n",
            "Epoch 16/50\n",
            "4375/4375 [==============================] - 208s 48ms/step - loss: 0.1915 - accuracy: 0.9291 - val_loss: 0.2863 - val_accuracy: 0.9008\n",
            "Epoch 17/50\n",
            "4375/4375 [==============================] - 212s 49ms/step - loss: 0.1886 - accuracy: 0.9296 - val_loss: 0.2546 - val_accuracy: 0.9137\n",
            "Epoch 18/50\n",
            "4375/4375 [==============================] - 208s 48ms/step - loss: 0.1859 - accuracy: 0.9317 - val_loss: 0.2477 - val_accuracy: 0.9213\n",
            "Epoch 19/50\n",
            "4375/4375 [==============================] - 209s 48ms/step - loss: 0.1847 - accuracy: 0.9312 - val_loss: 0.2452 - val_accuracy: 0.9185\n",
            "Epoch 20/50\n",
            "4375/4375 [==============================] - 214s 49ms/step - loss: 0.1813 - accuracy: 0.9318 - val_loss: 0.2502 - val_accuracy: 0.9198\n",
            "Epoch 21/50\n",
            "4375/4375 [==============================] - 218s 50ms/step - loss: 0.1788 - accuracy: 0.9329 - val_loss: 0.2643 - val_accuracy: 0.9143\n",
            "Epoch 22/50\n",
            "4375/4375 [==============================] - 218s 50ms/step - loss: 0.1783 - accuracy: 0.9338 - val_loss: 0.2535 - val_accuracy: 0.9200\n",
            "Epoch 23/50\n",
            "4375/4375 [==============================] - 217s 50ms/step - loss: 0.1749 - accuracy: 0.9343 - val_loss: 0.2815 - val_accuracy: 0.9013\n",
            "Epoch 24/50\n",
            "4375/4375 [==============================] - 215s 49ms/step - loss: 0.1756 - accuracy: 0.9348 - val_loss: 0.2609 - val_accuracy: 0.9131\n",
            "Epoch 25/50\n",
            "4375/4375 [==============================] - 218s 50ms/step - loss: 0.1729 - accuracy: 0.9347 - val_loss: 0.2511 - val_accuracy: 0.9214\n",
            "Epoch 26/50\n",
            "4375/4375 [==============================] - 218s 50ms/step - loss: 0.1709 - accuracy: 0.9366 - val_loss: 0.2510 - val_accuracy: 0.9204\n",
            "Epoch 27/50\n",
            "4375/4375 [==============================] - 214s 49ms/step - loss: 0.1717 - accuracy: 0.9353 - val_loss: 0.2696 - val_accuracy: 0.9063\n",
            "Epoch 28/50\n",
            "4375/4375 [==============================] - 216s 49ms/step - loss: 0.1732 - accuracy: 0.9355 - val_loss: 0.2858 - val_accuracy: 0.9107\n",
            "Epoch 29/50\n",
            "4375/4375 [==============================] - 218s 50ms/step - loss: 0.1689 - accuracy: 0.9362 - val_loss: 0.2511 - val_accuracy: 0.9245\n",
            "Epoch 30/50\n",
            "4375/4375 [==============================] - 214s 49ms/step - loss: 0.1688 - accuracy: 0.9363 - val_loss: 0.2588 - val_accuracy: 0.9217\n",
            "Epoch 31/50\n",
            "4375/4375 [==============================] - 214s 49ms/step - loss: 0.1678 - accuracy: 0.9371 - val_loss: 0.2637 - val_accuracy: 0.9231\n",
            "Epoch 32/50\n",
            "4375/4375 [==============================] - 215s 49ms/step - loss: 0.1669 - accuracy: 0.9365 - val_loss: 0.2686 - val_accuracy: 0.9126\n",
            "Epoch 33/50\n",
            "4375/4375 [==============================] - 217s 50ms/step - loss: 0.1649 - accuracy: 0.9374 - val_loss: 0.2538 - val_accuracy: 0.9267\n",
            "Epoch 34/50\n",
            "4375/4375 [==============================] - 218s 50ms/step - loss: 0.1645 - accuracy: 0.9378 - val_loss: 0.2990 - val_accuracy: 0.9038\n",
            "Epoch 35/50\n",
            "4375/4375 [==============================] - 217s 50ms/step - loss: 0.1633 - accuracy: 0.9388 - val_loss: 0.2586 - val_accuracy: 0.9197\n",
            "Epoch 36/50\n",
            "4375/4375 [==============================] - 214s 49ms/step - loss: 0.1625 - accuracy: 0.9388 - val_loss: 0.2922 - val_accuracy: 0.9034\n",
            "Epoch 37/50\n",
            "4375/4375 [==============================] - 217s 50ms/step - loss: 0.1603 - accuracy: 0.9399 - val_loss: 0.2945 - val_accuracy: 0.9108\n",
            "Epoch 38/50\n",
            "4375/4375 [==============================] - 214s 49ms/step - loss: 0.1616 - accuracy: 0.9391 - val_loss: 0.3021 - val_accuracy: 0.8982\n",
            "Epoch 39/50\n",
            "4375/4375 [==============================] - 218s 50ms/step - loss: 0.1617 - accuracy: 0.9395 - val_loss: 0.2846 - val_accuracy: 0.9129\n",
            "Epoch 40/50\n",
            "4375/4375 [==============================] - 218s 50ms/step - loss: 0.1585 - accuracy: 0.9402 - val_loss: 0.2908 - val_accuracy: 0.9108\n",
            "Epoch 41/50\n",
            "4375/4375 [==============================] - 217s 50ms/step - loss: 0.1597 - accuracy: 0.9398 - val_loss: 0.2693 - val_accuracy: 0.9225\n",
            "Epoch 42/50\n",
            "4375/4375 [==============================] - 218s 50ms/step - loss: 0.1591 - accuracy: 0.9397 - val_loss: 0.2824 - val_accuracy: 0.9187\n",
            "Epoch 43/50\n",
            "4375/4375 [==============================] - 217s 50ms/step - loss: 0.1594 - accuracy: 0.9398 - val_loss: 0.2813 - val_accuracy: 0.9145\n",
            "Epoch 44/50\n",
            "4375/4375 [==============================] - 218s 50ms/step - loss: 0.1592 - accuracy: 0.9396 - val_loss: 0.2890 - val_accuracy: 0.9129\n",
            "Epoch 45/50\n",
            "4375/4375 [==============================] - 218s 50ms/step - loss: 0.1580 - accuracy: 0.9401 - val_loss: 0.3036 - val_accuracy: 0.9160\n",
            "Epoch 46/50\n",
            "4375/4375 [==============================] - 214s 49ms/step - loss: 0.1593 - accuracy: 0.9401 - val_loss: 0.3004 - val_accuracy: 0.9126\n",
            "Epoch 47/50\n",
            "4375/4375 [==============================] - 213s 49ms/step - loss: 0.1561 - accuracy: 0.9413 - val_loss: 0.2929 - val_accuracy: 0.9151\n",
            "Epoch 48/50\n",
            "4375/4375 [==============================] - 217s 50ms/step - loss: 0.1567 - accuracy: 0.9409 - val_loss: 0.2781 - val_accuracy: 0.9224\n",
            "Epoch 49/50\n",
            "4375/4375 [==============================] - 215s 49ms/step - loss: 0.1578 - accuracy: 0.9407 - val_loss: 0.2892 - val_accuracy: 0.9194\n",
            "Epoch 50/50\n",
            "4375/4375 [==============================] - 215s 49ms/step - loss: 0.1569 - accuracy: 0.9410 - val_loss: 0.3141 - val_accuracy: 0.9103\n"
          ]
        }
      ],
      "source": [
        "history = model.fit(train_X,train_Y, epochs=50, batch_size=32, validation_data = (val_X, val_Y),  verbose=1)"
      ]
    },
    {
      "cell_type": "code",
      "execution_count": 28,
      "metadata": {
        "id": "2EIfo8so_BZ3",
        "colab": {
          "base_uri": "https://localhost:8080/",
          "height": 472
        },
        "outputId": "34358c3e-3ce9-42e1-cba9-6aee41005d10"
      },
      "outputs": [
        {
          "output_type": "display_data",
          "data": {
            "text/plain": [
              "<Figure size 640x480 with 1 Axes>"
            ],
            "image/png": "[encoded data removed]"
          },
          "metadata": {}
        }
      ],
      "source": [
        "plt.plot(history.history['accuracy'])\n",
        "plt.plot(history.history['val_accuracy'])\n",
        "plt.title('Training Accuracy vs Validation Accuracy')\n",
        "plt.ylabel('Accuracy')\n",
        "plt.xlabel('Epoch')\n",
        "plt.legend(['Train', 'Validation'], loc='upper left')\n",
        "plt.show()"
      ]
    },
    {
      "cell_type": "code",
      "execution_count": 29,
      "metadata": {
        "id": "5OGO3hBi_BZ3",
        "colab": {
          "base_uri": "https://localhost:8080/",
          "height": 472
        },
        "outputId": "b05635b0-3be0-4946-f9e8-4028d5c0678a"
      },
      "outputs": [
        {
          "output_type": "display_data",
          "data": {
            "text/plain": [
              "<Figure size 640x480 with 1 Axes>"
            ],
            "image/png": "[encoded data removed]"
          },
          "metadata": {}
        }
      ],
      "source": [
        "plt.plot(history.history['loss'])\n",
        "plt.plot(history.history['val_loss'])\n",
        "plt.title('Training Loss vs Validation Loss')\n",
        "plt.ylabel('Loss')\n",
        "plt.xlabel('Epoch')\n",
        "plt.legend(['Train', 'Validation'], loc='upper left')\n",
        "plt.show()"
      ]
    },
    {
      "cell_type": "markdown",
      "metadata": {
        "id": "_FRwreyF_BZ4"
      },
      "source": [
        "## Recognition and Post-Processing\n",
        "1. The sort contours function is used to get the correct order of individual characters for correct output extraction. In this case for extracting a single word, a left to right sorting of individual characters is needed.\n",
        "2. The get letters function fetches the list of letters and get word function gets the individual word."
      ]
    },
    {
      "cell_type": "code",
      "execution_count": 30,
      "metadata": {
        "id": "FKETTJyx_BZ4"
      },
      "outputs": [],
      "source": [
        "def sort_contours(cnts, method=\"left-to-right\"):\n",
        "    reverse = False\n",
        "    i = 0\n",
        "    if method == \"right-to-left\" or method == \"bottom-to-top\":\n",
        "        reverse = True\n",
        "    if method == \"top-to-bottom\" or method == \"bottom-to-top\":\n",
        "        i = 1\n",
        "    boundingBoxes = [cv2.boundingRect(c) for c in cnts]\n",
        "    (cnts, boundingBoxes) = zip(*sorted(zip(cnts, boundingBoxes),\n",
        "    key=lambda b:b[1][i], reverse=reverse))\n",
        "    # return the list of sorted contours and bounding boxes\n",
        "    return (cnts, boundingBoxes)"
      ]
    },
    {
      "cell_type": "code",
      "execution_count": 31,
      "metadata": {
        "id": "jgG400R7_BZ4"
      },
      "outputs": [],
      "source": [
        "def get_letters(img):\n",
        "    letters = []\n",
        "    image = cv2.imread(img)\n",
        "    gray = cv2.cvtColor(image, cv2.COLOR_BGR2GRAY)\n",
        "    ret,thresh1 = cv2.threshold(gray ,127,255,cv2.THRESH_BINARY_INV)\n",
        "    dilated = cv2.dilate(thresh1, None, iterations=2)\n",
        "\n",
        "    cnts = cv2.findContours(dilated.copy(), cv2.RETR_EXTERNAL,cv2.CHAIN_APPROX_SIMPLE)\n",
        "    cnts = imutils.grab_contours(cnts)\n",
        "    cnts = sort_contours(cnts, method=\"left-to-right\")[0]\n",
        "    # loop over the contours\n",
        "    for c in cnts:\n",
        "        if cv2.contourArea(c) > 10:\n",
        "            (x, y, w, h) = cv2.boundingRect(c)\n",
        "            cv2.rectangle(image, (x, y), (x + w, y + h), (0, 255, 0), 2)\n",
        "        roi = gray[y:y + h, x:x + w]\n",
        "        thresh = cv2.threshold(roi, 0, 255,cv2.THRESH_BINARY_INV | cv2.THRESH_OTSU)[1]\n",
        "        thresh = cv2.resize(thresh, (32, 32), interpolation = cv2.INTER_CUBIC)\n",
        "        thresh = thresh.astype(\"float32\") / 255.0\n",
        "        thresh = np.expand_dims(thresh, axis=-1)\n",
        "        thresh = thresh.reshape(1,32,32,1)\n",
        "        ypred = model.predict(thresh)\n",
        "        ypred = LB.inverse_transform(ypred)\n",
        "        [x] = ypred\n",
        "        letters.append(x)\n",
        "    return letters, image\n",
        "\n",
        "#plt.imshow(image)"
      ]
    },
    {
      "cell_type": "code",
      "execution_count": 32,
      "metadata": {
        "id": "Nf6xWAl__BZ4"
      },
      "outputs": [],
      "source": [
        "def get_word(letter):\n",
        "    word = \"\".join(letter)\n",
        "    return word"
      ]
    },
    {
      "cell_type": "code",
      "execution_count": 33,
      "metadata": {
        "id": "u7iHhuNu_BZ5",
        "colab": {
          "base_uri": "https://localhost:8080/",
          "height": 254
        },
        "outputId": "7768e665-c536-4639-e875-561f712f0b41"
      },
      "outputs": [
        {
          "output_type": "stream",
          "name": "stdout",
          "text": [
            "1/1 [==============================] - 1s 537ms/step\n",
            "1/1 [==============================] - 0s 42ms/step\n",
            "1/1 [==============================] - 0s 35ms/step\n",
            "1/1 [==============================] - 0s 24ms/step\n",
            "1/1 [==============================] - 0s 24ms/step\n",
            "BINES\n"
          ]
        },
        {
          "output_type": "execute_result",
          "data": {
            "text/plain": [
              "<matplotlib.image.AxesImage at 0x7c5af47b21a0>"
            ]
          },
          "metadata": {},
          "execution_count": 33
        },
        {
          "output_type": "display_data",
          "data": {
            "text/plain": [
              "<Figure size 640x480 with 1 Axes>"
            ],
            "image/png": "[encoded data removed]"
          },
          "metadata": {}
        }
      ],
      "source": [
        "letter,image = get_letters(\"../input/handwriting-recognition/train_v2/train/TRAIN_00003.jpg\")\n",
        "word = get_word(letter)\n",
        "print(word)\n",
        "plt.imshow(image)"
      ]
    },
    {
      "cell_type": "code",
      "execution_count": 34,
      "metadata": {
        "id": "8Iej_pYF_BZ5",
        "colab": {
          "base_uri": "https://localhost:8080/",
          "height": 241
        },
        "outputId": "a9a4b5f4-ce8b-4c3f-83b3-123928b69f4b"
      },
      "outputs": [
        {
          "output_type": "stream",
          "name": "stdout",
          "text": [
            "1/1 [==============================] - 0s 23ms/step\n",
            "1/1 [==============================] - 0s 20ms/step\n",
            "1/1 [==============================] - 0s 21ms/step\n",
            "1/1 [==============================] - 0s 20ms/step\n",
            "1/1 [==============================] - 0s 21ms/step\n",
            "LIL0U\n"
          ]
        },
        {
          "output_type": "execute_result",
          "data": {
            "text/plain": [
              "<matplotlib.image.AxesImage at 0x7c5af43db9d0>"
            ]
          },
          "metadata": {},
          "execution_count": 34
        },
        {
          "output_type": "display_data",
          "data": {
            "text/plain": [
              "<Figure size 640x480 with 1 Axes>"
            ],
            "image/png": "[encoded data removed]"
          },
          "metadata": {}
        }
      ],
      "source": [
        "letter,image = get_letters(\"../input/handwriting-recognition/train_v2/train/TRAIN_00023.jpg\")\n",
        "word = get_word(letter)\n",
        "print(word)\n",
        "plt.imshow(image)"
      ]
    },
    {
      "cell_type": "code",
      "execution_count": 35,
      "metadata": {
        "id": "-b1BOpgO_BZ5",
        "colab": {
          "base_uri": "https://localhost:8080/",
          "height": 275
        },
        "outputId": "ba8e0979-92d3-4007-81a6-9a0551e160c5"
      },
      "outputs": [
        {
          "output_type": "stream",
          "name": "stdout",
          "text": [
            "1/1 [==============================] - 0s 24ms/step\n",
            "1/1 [==============================] - 0s 24ms/step\n",
            "1/1 [==============================] - 0s 21ms/step\n",
            "1/1 [==============================] - 0s 21ms/step\n",
            "1/1 [==============================] - 0s 20ms/step\n",
            "1/1 [==============================] - 0s 21ms/step\n",
            "1/1 [==============================] - 0s 21ms/step\n",
            "IAFFEUX\n"
          ]
        },
        {
          "output_type": "execute_result",
          "data": {
            "text/plain": [
              "<matplotlib.image.AxesImage at 0x7c5af3b6a8f0>"
            ]
          },
          "metadata": {},
          "execution_count": 35
        },
        {
          "output_type": "display_data",
          "data": {
            "text/plain": [
              "<Figure size 640x480 with 1 Axes>"
            ],
            "image/png": "[encoded data removed]"
          },
          "metadata": {}
        }
      ],
      "source": [
        "letter,image = get_letters(\"../input/handwriting-recognition/train_v2/train/TRAIN_00030.jpg\")\n",
        "word = get_word(letter)\n",
        "print(word)\n",
        "plt.imshow(image)"
      ]
    },
    {
      "cell_type": "code",
      "execution_count": 36,
      "metadata": {
        "id": "doKMLdKM_BZ5",
        "colab": {
          "base_uri": "https://localhost:8080/",
          "height": 223
        },
        "outputId": "e797bf41-a34f-48d0-d250-ced2a858c5d6"
      },
      "outputs": [
        {
          "output_type": "stream",
          "name": "stdout",
          "text": [
            "1/1 [==============================] - 0s 20ms/step\n",
            "1/1 [==============================] - 0s 20ms/step\n",
            "1/1 [==============================] - 0s 27ms/step\n",
            "1/1 [==============================] - 0s 21ms/step\n",
            "RUPP\n"
          ]
        },
        {
          "output_type": "execute_result",
          "data": {
            "text/plain": [
              "<matplotlib.image.AxesImage at 0x7c5af47fa8f0>"
            ]
          },
          "metadata": {},
          "execution_count": 36
        },
        {
          "output_type": "display_data",
          "data": {
            "text/plain": [
              "<Figure size 640x480 with 1 Axes>"
            ],
            "image/png": "[encoded data removed]"
          },
          "metadata": {}
        }
      ],
      "source": [
        "letter,image = get_letters(\"../input/handwriting-recognition/validation_v2/validation/VALIDATION_0005.jpg\")\n",
        "word = get_word(letter)\n",
        "print(word)\n",
        "plt.imshow(image)"
      ]
    },
    {
      "cell_type": "code",
      "execution_count": 37,
      "metadata": {
        "id": "MO3y_8Xe_BZ6",
        "colab": {
          "base_uri": "https://localhost:8080/",
          "height": 323
        },
        "outputId": "9ff1d66b-9950-41a2-a527-0f282c86e459"
      },
      "outputs": [
        {
          "output_type": "stream",
          "name": "stdout",
          "text": [
            "1/1 [==============================] - 0s 25ms/step\n",
            "1/1 [==============================] - 0s 24ms/step\n",
            "1/1 [==============================] - 0s 24ms/step\n",
            "1/1 [==============================] - 0s 24ms/step\n",
            "1/1 [==============================] - 0s 35ms/step\n",
            "1/1 [==============================] - 0s 23ms/step\n",
            "1/1 [==============================] - 0s 23ms/step\n",
            "1/1 [==============================] - 0s 25ms/step\n",
            "1/1 [==============================] - 0s 22ms/step\n",
            "VALENTJNG\n"
          ]
        },
        {
          "output_type": "execute_result",
          "data": {
            "text/plain": [
              "<matplotlib.image.AxesImage at 0x7c5af3c626b0>"
            ]
          },
          "metadata": {},
          "execution_count": 37
        },
        {
          "output_type": "display_data",
          "data": {
            "text/plain": [
              "<Figure size 640x480 with 1 Axes>"
            ],
            "image/png": "[encoded data removed]"
          },
          "metadata": {}
        }
      ],
      "source": [
        "letter,image = get_letters(\"../input/handwriting-recognition/test_v2/test/TEST_0007.jpg\")\n",
        "word = get_word(letter)\n",
        "print(word)\n",
        "plt.imshow(image)"
      ]
    },
    {
      "cell_type": "markdown",
      "metadata": {
        "id": "FcKLcoV5_BZ6"
      },
      "source": [
        "## Drawbacks\n",
        "1. The recognition part is dependent on the contour detection code, so if the opencv library is not able to find the character contour, then this method will fail.\n",
        "2. There could be a lot of variation in a single handwritten letter in terms of writing style, therefore a lot more examples are needed for training this model.\n",
        "3. This model will not work for connected texts like a cursive handwritten word."
      ]
    },
    {
      "cell_type": "markdown",
      "metadata": {
        "id": "KCjvBsBH_BZ6"
      },
      "source": [
        "## Conclusion\n",
        "This notebook is an illustration of how a character segmentation and classification approach can be used for offline handwritten text extraction. In order to improve the model, the model should be trained on the complete dataset, this notebook was trained on slightly less number of images due to session constraints. Also, for applying this method to a complete paragraph, following approach can be used, **line segmentation >> word segmentation >> character segmentation >> classification >> post-processing**."
      ]
    },
    {
      "cell_type": "markdown",
      "metadata": {
        "id": "L1CEXX16_BZ6"
      },
      "source": [
        "## References\n",
        "1. [https://www.pyimagesearch.com/2020/08/24/ocr-handwriting-recognition-with-opencv-keras-and-tensorflow/](http://)\n",
        "2. [https://www.pyimagesearch.com/2015/04/20/sorting-contours-using-python-and-opencv/](http://)"
      ]
    },
    {
      "cell_type": "markdown",
      "metadata": {
        "id": "bUIjDt-F_BZ6"
      },
      "source": [
        "If you liked this notebook, then do **Upvote** as it will keep me motivated in creating such kernels ahead. **Thanks!!**"
      ]
    }
  ],
  "metadata": {
    "colab": {
      "provenance": [],
      "include_colab_link": true
    },
    "kernelspec": {
      "display_name": "Python 3",
      "language": "python",
      "name": "python3"
    },
    "language_info": {
      "codemirror_mode": {
        "name": "ipython",
        "version": 3
      },
      "file_extension": ".py",
      "mimetype": "text/x-python",
      "name": "python",
      "nbconvert_exporter": "python",
      "pygments_lexer": "ipython3",
      "version": "3.6.4"
    }
  },
  "nbformat": 4,
  "nbformat_minor": 0
}